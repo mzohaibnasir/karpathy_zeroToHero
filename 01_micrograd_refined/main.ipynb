{
 "cells": [
  {
   "cell_type": "code",
   "execution_count": 30,
   "metadata": {},
   "outputs": [],
   "source": [
    "import matplotlib.pyplot as plt\n",
    "import numpy as np\n",
    "import math\n"
   ]
  },
  {
   "cell_type": "markdown",
   "metadata": {},
   "source": [
    "## primer\n"
   ]
  },
  {
   "cell_type": "code",
   "execution_count": 31,
   "metadata": {},
   "outputs": [
    {
     "data": {
      "text/plain": [
       "20.0"
      ]
     },
     "execution_count": 31,
     "metadata": {},
     "output_type": "execute_result"
    }
   ],
   "source": [
    "def f(x): \n",
    "    return 3*x**2 - 4*x +5\n",
    "\n",
    "f(3.0)"
   ]
  },
  {
   "cell_type": "code",
   "execution_count": 32,
   "metadata": {},
   "outputs": [
    {
     "data": {
      "text/plain": [
       "array([-5.        , -4.58333333, -4.16666667, -3.75      , -3.33333333,\n",
       "       -2.91666667, -2.5       , -2.08333333, -1.66666667, -1.25      ,\n",
       "       -0.83333333, -0.41666667,  0.        ,  0.41666667,  0.83333333,\n",
       "        1.25      ,  1.66666667,  2.08333333,  2.5       ,  2.91666667,\n",
       "        3.33333333,  3.75      ,  4.16666667,  4.58333333,  5.        ])"
      ]
     },
     "execution_count": 32,
     "metadata": {},
     "output_type": "execute_result"
    }
   ],
   "source": [
    "np.linspace(-5,5, 25)"
   ]
  },
  {
   "cell_type": "code",
   "execution_count": 33,
   "metadata": {},
   "outputs": [
    {
     "data": {
      "text/plain": [
       "array([-5. , -4.5, -4. , -3.5, -3. , -2.5, -2. , -1.5, -1. , -0.5,  0. ,\n",
       "        0.5,  1. ,  1.5,  2. ,  2.5,  3. ,  3.5,  4. ,  4.5])"
      ]
     },
     "execution_count": 33,
     "metadata": {},
     "output_type": "execute_result"
    }
   ],
   "source": [
    "xs = np.arange(-5, 5, 0.5)\n",
    "xs"
   ]
  },
  {
   "cell_type": "code",
   "execution_count": 34,
   "metadata": {},
   "outputs": [
    {
     "data": {
      "text/plain": [
       "array([100.  ,  83.75,  69.  ,  55.75,  44.  ,  33.75,  25.  ,  17.75,\n",
       "        12.  ,   7.75,   5.  ,   3.75,   4.  ,   5.75,   9.  ,  13.75,\n",
       "        20.  ,  27.75,  37.  ,  47.75])"
      ]
     },
     "execution_count": 34,
     "metadata": {},
     "output_type": "execute_result"
    }
   ],
   "source": [
    "ys = f(xs)\n",
    "ys"
   ]
  },
  {
   "cell_type": "code",
   "execution_count": 35,
   "metadata": {},
   "outputs": [
    {
     "data": {
      "text/plain": [
       "[<matplotlib.lines.Line2D at 0x7a78e4859630>]"
      ]
     },
     "execution_count": 35,
     "metadata": {},
     "output_type": "execute_result"
    },
    {
     "data": {
      "image/png": "[encoded data removed]",
      "text/plain": [
       "<Figure size 640x480 with 1 Axes>"
      ]
     },
     "metadata": {},
     "output_type": "display_data"
    }
   ],
   "source": [
    "plt.plot(xs,ys)"
   ]
  },
  {
   "cell_type": "code",
   "execution_count": null,
   "metadata": {},
   "outputs": [],
   "source": []
  },
  {
   "cell_type": "code",
   "execution_count": 36,
   "metadata": {},
   "outputs": [
    {
     "data": {
      "text/plain": [
       "20.0"
      ]
     },
     "execution_count": 36,
     "metadata": {},
     "output_type": "execute_result"
    }
   ],
   "source": [
    "x =3.0\n",
    "h = 1.0\n",
    "f(x)"
   ]
  },
  {
   "cell_type": "code",
   "execution_count": 37,
   "metadata": {},
   "outputs": [
    {
     "data": {
      "text/plain": [
       "37.0"
      ]
     },
     "execution_count": 37,
     "metadata": {},
     "output_type": "execute_result"
    }
   ],
   "source": [
    "f(x+h)"
   ]
  },
  {
   "cell_type": "code",
   "execution_count": 38,
   "metadata": {},
   "outputs": [
    {
     "data": {
      "text/plain": [
       "17.0"
      ]
     },
     "execution_count": 38,
     "metadata": {},
     "output_type": "execute_result"
    }
   ],
   "source": [
    "(f(x+h) - f(x))/h"
   ]
  },
  {
   "cell_type": "code",
   "execution_count": 39,
   "metadata": {},
   "outputs": [
    {
     "data": {
      "text/plain": [
       "14.000300000063248"
      ]
     },
     "execution_count": 39,
     "metadata": {},
     "output_type": "execute_result"
    }
   ],
   "source": [
    "# consider h~~~0  i.e. very small then \n",
    "\n",
    "h=0.0001\n",
    "\n",
    "(f(x+h) - f(x))/h"
   ]
  },
  {
   "cell_type": "code",
   "execution_count": 40,
   "metadata": {},
   "outputs": [
    {
     "data": {
      "text/plain": [
       "14.000300000063248"
      ]
     },
     "execution_count": 40,
     "metadata": {},
     "output_type": "execute_result"
    }
   ],
   "source": [
    "(f(x+h) - f(x))/h"
   ]
  },
  {
   "cell_type": "code",
   "execution_count": null,
   "metadata": {},
   "outputs": [],
   "source": []
  },
  {
   "cell_type": "markdown",
   "metadata": {},
   "source": [
    "# primer over\n"
   ]
  },
  {
   "cell_type": "code",
   "execution_count": 41,
   "metadata": {},
   "outputs": [
    {
     "data": {
      "text/plain": [
       "4.0"
      ]
     },
     "execution_count": 41,
     "metadata": {},
     "output_type": "execute_result"
    }
   ],
   "source": [
    "a = 2.0\n",
    "b = -3.0\n",
    "c = 10.0\n",
    "\n",
    "d = a* b + c\n",
    "d"
   ]
  },
  {
   "cell_type": "code",
   "execution_count": 42,
   "metadata": {},
   "outputs": [
    {
     "name": "stdout",
     "output_type": "stream",
     "text": [
      "modifying a by h\n",
      "d1 =4.0\n",
      "d2 =3.997\n",
      "slope =-3.0000000000001137\n"
     ]
    }
   ],
   "source": [
    "\n",
    "h= 0.001\n",
    "\n",
    "a = 2.0\n",
    "b = -3.0\n",
    "c = 10.0\n",
    "\n",
    "d1 = a* b + c\n",
    "a+=h\n",
    "print(\"modifying a by h\")\n",
    "d2 = a* b + c\n",
    "print(f\"d1 ={d1}\")\n",
    "print(f\"d2 ={d2}\")\n",
    "print(f\"slope ={(d2-d1)/h}\")  # increasing a decrease  d2  by a factor of 3"
   ]
  },
  {
   "cell_type": "code",
   "execution_count": 43,
   "metadata": {},
   "outputs": [
    {
     "name": "stdout",
     "output_type": "stream",
     "text": [
      "modifying b by h\n",
      "d1 =4.0\n",
      "d2 =4.002\n",
      "slope =1.9999999999997797\n"
     ]
    }
   ],
   "source": [
    "\n",
    "h= 0.001\n",
    "\n",
    "a = 2.0\n",
    "b = -3.0\n",
    "c = 10.0\n",
    "\n",
    "d1 = a* b + c\n",
    "b+=h\n",
    "print(\"modifying b by h\")\n",
    "d2 = a* b + c\n",
    "print(f\"d1 ={d1}\")\n",
    "print(f\"d2 ={d2}\")\n",
    "print(f\"slope ={(d2-d1)/h}\")  # increasing b increases  d2  by a factor of 2"
   ]
  },
  {
   "cell_type": "code",
   "execution_count": 44,
   "metadata": {},
   "outputs": [],
   "source": [
    "# visualize graph\n",
    "\n",
    "from graphviz import Digraph\n",
    "\n",
    "\n",
    "def trace(root):\n",
    "    nodes, edges = set(), set()\n",
    "\n",
    "    def build(v):\n",
    "        if v not in nodes:\n",
    "            nodes.add(v)\n",
    "            for child in v._prev:\n",
    "                edges.add((child, v))\n",
    "                build(child)\n",
    "\n",
    "    build(root)\n",
    "    return nodes, edges\n",
    "\n",
    "\n",
    "def draw_dot(root, format=\"svg\", rankdir=\"LR\"):\n",
    "    \"\"\"\n",
    "    format: png | svg | ...\n",
    "    rankdir: TB (top to bottom graph) | LR (left to right)\n",
    "    \"\"\"\n",
    "    assert rankdir in [\"LR\", \"TB\"]\n",
    "    nodes, edges = trace(root)\n",
    "    dot = Digraph(format=format, graph_attr={\"rankdir\": rankdir})  # , node_attr={'rankdir': 'TB'})\n",
    "\n",
    "    for n in nodes:\n",
    "        dot.node(\n",
    "            name=str(id(n)),\n",
    "            label=\"{ %s| data %.4f | grad %.4f }\" % (n.label, n.data, n.grad),\n",
    "            # label=\"{ %s| data %.4f  }\" % (n.label, n.data),\n",
    "            shape=\"record\",\n",
    "        )\n",
    "        if n._op:\n",
    "            dot.node(name=str(id(n)) + n._op, label=n._op)\n",
    "            dot.edge(str(id(n)) + n._op, str(id(n)))\n",
    "\n",
    "    for n1, n2 in edges:\n",
    "        dot.edge(str(id(n1)), str(id(n2)) + n2._op)\n",
    "\n",
    "    return dot"
   ]
  },
  {
   "cell_type": "code",
   "execution_count": null,
   "metadata": {},
   "outputs": [],
   "source": []
  },
  {
   "cell_type": "code",
   "execution_count": null,
   "metadata": {},
   "outputs": [],
   "source": []
  },
  {
   "cell_type": "code",
   "execution_count": null,
   "metadata": {},
   "outputs": [],
   "source": []
  },
  {
   "cell_type": "code",
   "execution_count": 45,
   "metadata": {},
   "outputs": [],
   "source": [
    "from typing import Union\n",
    "\n",
    "class Value:\n",
    "    def __init__(self,data:float, _children=(), _op:str=\"\", label:str=\"\"):\n",
    "        self.data = data\n",
    "        self.grad = 0.0 # mean no effect\n",
    "        self._prev = set(_children)\n",
    "        self._op = _op\n",
    "        self.label = label\n",
    "        \n",
    "\n",
    "    def __repr__(self)->str:\n",
    "        return f\"Value(data={self.data})\"\n",
    "    # __str__ = __repr__\n",
    "\n",
    "    def __str__(self)->str:\n",
    "        return f\"Value(data={self.data}, label={self.label})\"\n",
    "    \n",
    "    # def __str__(self):\n",
    "    #     \"return string only\"\n",
    "    #     return f\"Value(data={self.data})\"\n",
    "\n",
    "    def __add__(self, other: Union[float, 'Value']) -> 'Value':   # quotaion marks to cater naming issues\n",
    "        other = other if isinstance(other, Value) else Value(other)\n",
    "        if (isinstance(other, Value)):\n",
    "            return Value(self.data + other.data, (self, other), \"+\")\n",
    "        else:\n",
    "            raise TypeError(\"Operand must be of type 'Value', 'float', 'int\")\n",
    "\n",
    "\n",
    "    def __radd__(self, other: Union[float, 'Value']): #reflected addition\n",
    "        return self + other\n",
    "\n",
    "    def __mul__(self, other: Union[float, 'Value']) -> 'Value':   # quotaion marks to cater naming \n",
    "        other = other if isinstance(other, Value) else Value(other)\n",
    "\n",
    "        if (isinstance(other, Value)):\n",
    "            return Value(self.data * other.data, (self, other),\"*\")\n",
    "        else:\n",
    "            raise TypeError(\"Operand must be of type 'Value', 'float', 'int\")\n",
    "\n",
    "\n",
    "    def __rmul__(self, other: Union[float, 'Value']): #reflected mul\n",
    "        return self * other\n",
    "\n",
    "    def __neg__(self):\n",
    "        return Value(-self.data)\n",
    "\n",
    "\n",
    "# we'll compute derivative of L with  respect to each node. so in more simpler terms, compute derivative of L with respect to inputs does same things as derivative of L with respect to all intermediate is calculated too-- not skipped.that's what chain rule is all about: Consider intrmediate states.\n",
    "\n",
    "\n",
    "# we'll just calculate derivative of weights because input data is fixed\n",
    "# deriavtive of x with itself will be 1"
   ]
  },
  {
   "cell_type": "code",
   "execution_count": 46,
   "metadata": {},
   "outputs": [
    {
     "name": "stdout",
     "output_type": "stream",
     "text": [
      "Value(data=-8.0, label=L)\n"
     ]
    },
    {
     "data": {
      "image/svg+xml": [
       "<?xml version=\"1.0\" encoding=\"UTF-8\" standalone=\"no\"?>\n",
       "<!DOCTYPE svg PUBLIC \"-//W3C//DTD SVG 1.1//EN\"\n",
       " \"http://www.w3.org/Graphics/SVG/1.1/DTD/svg11.dtd\">\n",
       "<!-- Generated by graphviz version 2.43.0 (0)\n",
       " -->\n",
       "<!-- Title: %3 Pages: 1 -->\n",
       "<svg width=\"1332pt\" height=\"154pt\"\n",
       " viewBox=\"0.00 0.00 1332.00 154.00\" xmlns=\"http://www.w3.org/2000/svg\" xmlns:xlink=\"http://www.w3.org/1999/xlink\">\n",
       "<g id=\"graph0\" class=\"graph\" transform=\"scale(1 1) rotate(0) translate(4 150)\">\n",
       "<title>%3</title>\n",
       "<polygon fill=\"white\" stroke=\"transparent\" points=\"-4,4 -4,-150 1328,-150 1328,4 -4,4\"/>\n",
       "<!-- 134659649124960 -->\n",
       "<g id=\"node1\" class=\"node\">\n",
       "<title>134659649124960</title>\n",
       "<polygon fill=\"none\" stroke=\"black\" points=\"728,-109.5 728,-145.5 961,-145.5 961,-109.5 728,-109.5\"/>\n",
       "<text text-anchor=\"middle\" x=\"739\" y=\"-123.8\" font-family=\"Times,serif\" font-size=\"14.00\">f</text>\n",
       "<polyline fill=\"none\" stroke=\"black\" points=\"750,-109.5 750,-145.5 \"/>\n",
       "<text text-anchor=\"middle\" x=\"803.5\" y=\"-123.8\" font-family=\"Times,serif\" font-size=\"14.00\">data &#45;2.0000</text>\n",
       "<polyline fill=\"none\" stroke=\"black\" points=\"857,-109.5 857,-145.5 \"/>\n",
       "<text text-anchor=\"middle\" x=\"909\" y=\"-123.8\" font-family=\"Times,serif\" font-size=\"14.00\">grad 0.0000</text>\n",
       "</g>\n",
       "<!-- 134659649121504* -->\n",
       "<g id=\"node3\" class=\"node\">\n",
       "<title>134659649121504*</title>\n",
       "<ellipse fill=\"none\" stroke=\"black\" cx=\"1024\" cy=\"-99.5\" rx=\"27\" ry=\"18\"/>\n",
       "<text text-anchor=\"middle\" x=\"1024\" y=\"-95.8\" font-family=\"Times,serif\" font-size=\"14.00\">*</text>\n",
       "</g>\n",
       "<!-- 134659649124960&#45;&gt;134659649121504* -->\n",
       "<g id=\"edge7\" class=\"edge\">\n",
       "<title>134659649124960&#45;&gt;134659649121504*</title>\n",
       "<path fill=\"none\" stroke=\"black\" d=\"M959.67,-109.49C969.61,-107.92 979.08,-106.43 987.53,-105.1\"/>\n",
       "<polygon fill=\"black\" stroke=\"black\" points=\"988.31,-108.52 997.64,-103.5 987.22,-101.6 988.31,-108.52\"/>\n",
       "</g>\n",
       "<!-- 134659649121504 -->\n",
       "<g id=\"node2\" class=\"node\">\n",
       "<title>134659649121504</title>\n",
       "<polygon fill=\"none\" stroke=\"black\" points=\"1087,-81.5 1087,-117.5 1324,-117.5 1324,-81.5 1087,-81.5\"/>\n",
       "<text text-anchor=\"middle\" x=\"1100\" y=\"-95.8\" font-family=\"Times,serif\" font-size=\"14.00\">L</text>\n",
       "<polyline fill=\"none\" stroke=\"black\" points=\"1113,-81.5 1113,-117.5 \"/>\n",
       "<text text-anchor=\"middle\" x=\"1166.5\" y=\"-95.8\" font-family=\"Times,serif\" font-size=\"14.00\">data &#45;8.0000</text>\n",
       "<polyline fill=\"none\" stroke=\"black\" points=\"1220,-81.5 1220,-117.5 \"/>\n",
       "<text text-anchor=\"middle\" x=\"1272\" y=\"-95.8\" font-family=\"Times,serif\" font-size=\"14.00\">grad 0.0000</text>\n",
       "</g>\n",
       "<!-- 134659649121504*&#45;&gt;134659649121504 -->\n",
       "<g id=\"edge1\" class=\"edge\">\n",
       "<title>134659649121504*&#45;&gt;134659649121504</title>\n",
       "<path fill=\"none\" stroke=\"black\" d=\"M1051.1,-99.5C1058.61,-99.5 1067.33,-99.5 1076.75,-99.5\"/>\n",
       "<polygon fill=\"black\" stroke=\"black\" points=\"1076.78,-103 1086.78,-99.5 1076.78,-96 1076.78,-103\"/>\n",
       "</g>\n",
       "<!-- 134659649119536 -->\n",
       "<g id=\"node4\" class=\"node\">\n",
       "<title>134659649119536</title>\n",
       "<polygon fill=\"none\" stroke=\"black\" points=\"728.5,-54.5 728.5,-90.5 960.5,-90.5 960.5,-54.5 728.5,-54.5\"/>\n",
       "<text text-anchor=\"middle\" x=\"741.5\" y=\"-68.8\" font-family=\"Times,serif\" font-size=\"14.00\">d</text>\n",
       "<polyline fill=\"none\" stroke=\"black\" points=\"754.5,-54.5 754.5,-90.5 \"/>\n",
       "<text text-anchor=\"middle\" x=\"805.5\" y=\"-68.8\" font-family=\"Times,serif\" font-size=\"14.00\">data 4.0000</text>\n",
       "<polyline fill=\"none\" stroke=\"black\" points=\"856.5,-54.5 856.5,-90.5 \"/>\n",
       "<text text-anchor=\"middle\" x=\"908.5\" y=\"-68.8\" font-family=\"Times,serif\" font-size=\"14.00\">grad 0.0000</text>\n",
       "</g>\n",
       "<!-- 134659649119536&#45;&gt;134659649121504* -->\n",
       "<g id=\"edge6\" class=\"edge\">\n",
       "<title>134659649119536&#45;&gt;134659649121504*</title>\n",
       "<path fill=\"none\" stroke=\"black\" d=\"M960.92,-90.06C970.4,-91.5 979.44,-92.87 987.54,-94.11\"/>\n",
       "<polygon fill=\"black\" stroke=\"black\" points=\"987.19,-97.59 997.6,-95.64 988.24,-90.67 987.19,-97.59\"/>\n",
       "</g>\n",
       "<!-- 134659649119536+ -->\n",
       "<g id=\"node5\" class=\"node\">\n",
       "<title>134659649119536+</title>\n",
       "<ellipse fill=\"none\" stroke=\"black\" cx=\"665\" cy=\"-72.5\" rx=\"27\" ry=\"18\"/>\n",
       "<text text-anchor=\"middle\" x=\"665\" y=\"-68.8\" font-family=\"Times,serif\" font-size=\"14.00\">+</text>\n",
       "</g>\n",
       "<!-- 134659649119536+&#45;&gt;134659649119536 -->\n",
       "<g id=\"edge2\" class=\"edge\">\n",
       "<title>134659649119536+&#45;&gt;134659649119536</title>\n",
       "<path fill=\"none\" stroke=\"black\" d=\"M692.19,-72.5C699.78,-72.5 708.61,-72.5 718.11,-72.5\"/>\n",
       "<polygon fill=\"black\" stroke=\"black\" points=\"718.24,-76 728.24,-72.5 718.24,-69 718.24,-76\"/>\n",
       "</g>\n",
       "<!-- 134659648452928 -->\n",
       "<g id=\"node6\" class=\"node\">\n",
       "<title>134659648452928</title>\n",
       "<polygon fill=\"none\" stroke=\"black\" points=\"0,-55.5 0,-91.5 237,-91.5 237,-55.5 0,-55.5\"/>\n",
       "<text text-anchor=\"middle\" x=\"13\" y=\"-69.8\" font-family=\"Times,serif\" font-size=\"14.00\">b</text>\n",
       "<polyline fill=\"none\" stroke=\"black\" points=\"26,-55.5 26,-91.5 \"/>\n",
       "<text text-anchor=\"middle\" x=\"79.5\" y=\"-69.8\" font-family=\"Times,serif\" font-size=\"14.00\">data &#45;3.0000</text>\n",
       "<polyline fill=\"none\" stroke=\"black\" points=\"133,-55.5 133,-91.5 \"/>\n",
       "<text text-anchor=\"middle\" x=\"185\" y=\"-69.8\" font-family=\"Times,serif\" font-size=\"14.00\">grad 0.0000</text>\n",
       "</g>\n",
       "<!-- 134659649120688* -->\n",
       "<g id=\"node10\" class=\"node\">\n",
       "<title>134659649120688*</title>\n",
       "<ellipse fill=\"none\" stroke=\"black\" cx=\"300\" cy=\"-45.5\" rx=\"27\" ry=\"18\"/>\n",
       "<text text-anchor=\"middle\" x=\"300\" y=\"-41.8\" font-family=\"Times,serif\" font-size=\"14.00\">*</text>\n",
       "</g>\n",
       "<!-- 134659648452928&#45;&gt;134659649120688* -->\n",
       "<g id=\"edge9\" class=\"edge\">\n",
       "<title>134659648452928&#45;&gt;134659649120688*</title>\n",
       "<path fill=\"none\" stroke=\"black\" d=\"M234.96,-55.49C245.12,-53.91 254.8,-52.4 263.41,-51.05\"/>\n",
       "<polygon fill=\"black\" stroke=\"black\" points=\"264.02,-54.5 273.36,-49.5 262.94,-47.58 264.02,-54.5\"/>\n",
       "</g>\n",
       "<!-- 134659648449376 -->\n",
       "<g id=\"node7\" class=\"node\">\n",
       "<title>134659648449376</title>\n",
       "<polygon fill=\"none\" stroke=\"black\" points=\"363,-82.5 363,-118.5 602,-118.5 602,-82.5 363,-82.5\"/>\n",
       "<text text-anchor=\"middle\" x=\"375\" y=\"-96.8\" font-family=\"Times,serif\" font-size=\"14.00\">c</text>\n",
       "<polyline fill=\"none\" stroke=\"black\" points=\"387,-82.5 387,-118.5 \"/>\n",
       "<text text-anchor=\"middle\" x=\"442.5\" y=\"-96.8\" font-family=\"Times,serif\" font-size=\"14.00\">data 10.0000</text>\n",
       "<polyline fill=\"none\" stroke=\"black\" points=\"498,-82.5 498,-118.5 \"/>\n",
       "<text text-anchor=\"middle\" x=\"550\" y=\"-96.8\" font-family=\"Times,serif\" font-size=\"14.00\">grad 0.0000</text>\n",
       "</g>\n",
       "<!-- 134659648449376&#45;&gt;134659649119536+ -->\n",
       "<g id=\"edge5\" class=\"edge\">\n",
       "<title>134659648449376&#45;&gt;134659649119536+</title>\n",
       "<path fill=\"none\" stroke=\"black\" d=\"M599.6,-82.49C609.91,-80.89 619.74,-79.37 628.46,-78.01\"/>\n",
       "<polygon fill=\"black\" stroke=\"black\" points=\"629.18,-81.44 638.52,-76.45 628.1,-74.53 629.18,-81.44\"/>\n",
       "</g>\n",
       "<!-- 134659648451440 -->\n",
       "<g id=\"node8\" class=\"node\">\n",
       "<title>134659648451440</title>\n",
       "<polygon fill=\"none\" stroke=\"black\" points=\"3,-0.5 3,-36.5 234,-36.5 234,-0.5 3,-0.5\"/>\n",
       "<text text-anchor=\"middle\" x=\"15.5\" y=\"-14.8\" font-family=\"Times,serif\" font-size=\"14.00\">a</text>\n",
       "<polyline fill=\"none\" stroke=\"black\" points=\"28,-0.5 28,-36.5 \"/>\n",
       "<text text-anchor=\"middle\" x=\"79\" y=\"-14.8\" font-family=\"Times,serif\" font-size=\"14.00\">data 2.0000</text>\n",
       "<polyline fill=\"none\" stroke=\"black\" points=\"130,-0.5 130,-36.5 \"/>\n",
       "<text text-anchor=\"middle\" x=\"182\" y=\"-14.8\" font-family=\"Times,serif\" font-size=\"14.00\">grad 0.0000</text>\n",
       "</g>\n",
       "<!-- 134659648451440&#45;&gt;134659649120688* -->\n",
       "<g id=\"edge8\" class=\"edge\">\n",
       "<title>134659648451440&#45;&gt;134659649120688*</title>\n",
       "<path fill=\"none\" stroke=\"black\" d=\"M234.2,-35.75C244.55,-37.31 254.43,-38.8 263.21,-40.12\"/>\n",
       "<polygon fill=\"black\" stroke=\"black\" points=\"262.92,-43.61 273.33,-41.64 263.96,-36.69 262.92,-43.61\"/>\n",
       "</g>\n",
       "<!-- 134659649120688 -->\n",
       "<g id=\"node9\" class=\"node\">\n",
       "<title>134659649120688</title>\n",
       "<polygon fill=\"none\" stroke=\"black\" points=\"364.5,-27.5 364.5,-63.5 600.5,-63.5 600.5,-27.5 364.5,-27.5\"/>\n",
       "<text text-anchor=\"middle\" x=\"377\" y=\"-41.8\" font-family=\"Times,serif\" font-size=\"14.00\">e</text>\n",
       "<polyline fill=\"none\" stroke=\"black\" points=\"389.5,-27.5 389.5,-63.5 \"/>\n",
       "<text text-anchor=\"middle\" x=\"443\" y=\"-41.8\" font-family=\"Times,serif\" font-size=\"14.00\">data &#45;6.0000</text>\n",
       "<polyline fill=\"none\" stroke=\"black\" points=\"496.5,-27.5 496.5,-63.5 \"/>\n",
       "<text text-anchor=\"middle\" x=\"548.5\" y=\"-41.8\" font-family=\"Times,serif\" font-size=\"14.00\">grad 0.0000</text>\n",
       "</g>\n",
       "<!-- 134659649120688&#45;&gt;134659649119536+ -->\n",
       "<g id=\"edge4\" class=\"edge\">\n",
       "<title>134659649120688&#45;&gt;134659649119536+</title>\n",
       "<path fill=\"none\" stroke=\"black\" d=\"M600.62,-63.02C610.5,-64.5 619.9,-65.9 628.3,-67.16\"/>\n",
       "<polygon fill=\"black\" stroke=\"black\" points=\"627.95,-70.65 638.36,-68.66 628.99,-63.72 627.95,-70.65\"/>\n",
       "</g>\n",
       "<!-- 134659649120688*&#45;&gt;134659649120688 -->\n",
       "<g id=\"edge3\" class=\"edge\">\n",
       "<title>134659649120688*&#45;&gt;134659649120688</title>\n",
       "<path fill=\"none\" stroke=\"black\" d=\"M327.25,-45.5C335.09,-45.5 344.27,-45.5 354.17,-45.5\"/>\n",
       "<polygon fill=\"black\" stroke=\"black\" points=\"354.28,-49 364.28,-45.5 354.28,-42 354.28,-49\"/>\n",
       "</g>\n",
       "</g>\n",
       "</svg>\n"
      ],
      "text/plain": [
       "<graphviz.graphs.Digraph at 0x7a78e485bbb0>"
      ]
     },
     "execution_count": 46,
     "metadata": {},
     "output_type": "execute_result"
    }
   ],
   "source": [
    "a= Value(2.0, label=\"a\")\n",
    "b= Value(-3.0, label=\"b\")\n",
    "c= Value(10.0, label=\"c\")\n",
    "e = a * b; e.label=\"e\"\n",
    "d = e +c;d.label = \"d\"\n",
    "f = Value(-2.0, label='f')\n",
    "L=d*f; L.label = \"L\"\n",
    "# print(a,b,c,d)\n",
    "print(L)\n",
    "\n",
    "draw_dot(L)\n",
    "\n",
    "\n"
   ]
  },
  {
   "cell_type": "code",
   "execution_count": null,
   "metadata": {},
   "outputs": [],
   "source": []
  },
  {
   "cell_type": "code",
   "execution_count": 47,
   "metadata": {},
   "outputs": [
    {
     "name": "stdout",
     "output_type": "stream",
     "text": [
      "0.9999999999999964\n"
     ]
    }
   ],
   "source": [
    "# deerivative with self\n",
    "def lwl():\n",
    "    h=0.1\n",
    "    a= Value(2.0, label=\"a\")\n",
    "    b= Value(-3.0, label=\"b\")\n",
    "    c= Value(10.0, label=\"c\")\n",
    "    e = a * b; e.label=\"e\"\n",
    "    d = e +c;d.label = \"d\"\n",
    "    f = Value(-2.0, label='f')\n",
    "    L=d*f; L.label = \"L1\"\n",
    "    # print(a,b,c,d)\n",
    "    # print(L)\n",
    "    L1 = L.data\n",
    "    # step ii\n",
    "    \n",
    "    L2=L1+h; L.label = \"L2\"\n",
    "    # L+=h\n",
    "    \n",
    "    \n",
    "    print((L2-L1)/h)\n",
    "    \n",
    "\n",
    "    \n",
    "lwl()\n",
    "\n",
    "# so,\n",
    "L.grad = 1\n",
    "\n",
    "\n"
   ]
  },
  {
   "cell_type": "code",
   "execution_count": 48,
   "metadata": {},
   "outputs": [
    {
     "name": "stdout",
     "output_type": "stream",
     "text": [
      "-1.999999999999993\n"
     ]
    }
   ],
   "source": [
    "# deerivative with d\n",
    "\n",
    "#L = d*f\n",
    "#L/dd = f\n",
    "#L/df = d\n",
    "\n",
    "#L = d+f\n",
    "#L/dd = 1\n",
    "#L/df = 1\n",
    "\n",
    "\n",
    "def lwd():\n",
    "    \n",
    "    h=0.1\n",
    "    a= Value(2.0, label=\"a\")\n",
    "    b= Value(-3.0, label=\"b\")\n",
    "    c= Value(10.0, label=\"c\")\n",
    "    e = a * b; e.label=\"e\"\n",
    "    d = e +c;d.label = \"d\"\n",
    "    f = Value(-2.0, label='f')\n",
    "    L=d*f; L.label = \"L1\"\n",
    "    # print(a,b,c,d)\n",
    "    # print(L)\n",
    "    L1 = L.data\n",
    "    # step ii\n",
    "    \n",
    "    \n",
    "    d = (e +c)+h;d.label = \"d\"\n",
    "    f = Value(-2.0, label='f')\n",
    "    L2=(d*f).data; L.label = \"L2\"\n",
    "    \n",
    "    \n",
    "    \n",
    "    # L+=h\n",
    "    \n",
    "    \n",
    "    print((L2-L1)/h)\n",
    "    \n",
    "\n",
    "    \n",
    "lwd()\n",
    "\n",
    "# so,\n",
    "d.grad = -1.999999999999993\n",
    "\"\"\"\n",
    "*\n",
    "    L = d*f\n",
    "    L/dd = f\n",
    "    L/df = d\n",
    "+\n",
    "    L = d+f\n",
    "    L/dd = 1\n",
    "    L/df = 1\n",
    "    \n",
    "    \n",
    "    d = c + e\n",
    "    dd/dc =1\n",
    "    dd/de =1\n",
    "    \n",
    "chain\n",
    "    dL/dc = dL/dd * dd/dc\n",
    "    dL/dc = -2 * 1\n",
    "    dL/dc = -2\n",
    "    \n",
    "    so c.grad = -2\n",
    "    \n",
    "    \n",
    "    for a :\n",
    "    \n",
    "    e = a*b\n",
    "    de/da = b\n",
    "    de/db = a\n",
    "    \n",
    "    \n",
    "    dL/da = dL/dd * dd/de * de/da\n",
    "    dL/da = -2 * 1 * -3.0\n",
    "    dL/da = 6\n",
    "    \n",
    "    dL/db = dL/dd * dd/de * de/db\n",
    "    dL/db = -2 * 1 * 2.0\n",
    "    dL/db = -4\n",
    "    \n",
    "\"\"\"\n",
    "\n",
    "d.grad = -2 # value of f\n",
    "f.grad = 4.0 # value of d\n",
    "c.grad = -2\n",
    "e.grad = -2\n",
    "a.grad = 6.0\n",
    "b.grad = -4\n",
    "\n",
    "# for multiplication: When differentiating with respect to one variable, the other variable is treated as a constant, leading to the result that the derivative is simply the other variable.\n",
    "# for addition: both wil be one \n"
   ]
  },
  {
   "cell_type": "code",
   "execution_count": 49,
   "metadata": {},
   "outputs": [
    {
     "data": {
      "image/svg+xml": [
       "<?xml version=\"1.0\" encoding=\"UTF-8\" standalone=\"no\"?>\n",
       "<!DOCTYPE svg PUBLIC \"-//W3C//DTD SVG 1.1//EN\"\n",
       " \"http://www.w3.org/Graphics/SVG/1.1/DTD/svg11.dtd\">\n",
       "<!-- Generated by graphviz version 2.43.0 (0)\n",
       " -->\n",
       "<!-- Title: %3 Pages: 1 -->\n",
       "<svg width=\"1343pt\" height=\"154pt\"\n",
       " viewBox=\"0.00 0.00 1343.00 154.00\" xmlns=\"http://www.w3.org/2000/svg\" xmlns:xlink=\"http://www.w3.org/1999/xlink\">\n",
       "<g id=\"graph0\" class=\"graph\" transform=\"scale(1 1) rotate(0) translate(4 150)\">\n",
       "<title>%3</title>\n",
       "<polygon fill=\"white\" stroke=\"transparent\" points=\"-4,4 -4,-150 1339,-150 1339,4 -4,4\"/>\n",
       "<!-- 134659649124960 -->\n",
       "<g id=\"node1\" class=\"node\">\n",
       "<title>134659649124960</title>\n",
       "<polygon fill=\"none\" stroke=\"black\" points=\"737.5,-109.5 737.5,-145.5 970.5,-145.5 970.5,-109.5 737.5,-109.5\"/>\n",
       "<text text-anchor=\"middle\" x=\"748.5\" y=\"-123.8\" font-family=\"Times,serif\" font-size=\"14.00\">f</text>\n",
       "<polyline fill=\"none\" stroke=\"black\" points=\"759.5,-109.5 759.5,-145.5 \"/>\n",
       "<text text-anchor=\"middle\" x=\"813\" y=\"-123.8\" font-family=\"Times,serif\" font-size=\"14.00\">data &#45;2.0000</text>\n",
       "<polyline fill=\"none\" stroke=\"black\" points=\"866.5,-109.5 866.5,-145.5 \"/>\n",
       "<text text-anchor=\"middle\" x=\"918.5\" y=\"-123.8\" font-family=\"Times,serif\" font-size=\"14.00\">grad 4.0000</text>\n",
       "</g>\n",
       "<!-- 134659649121504* -->\n",
       "<g id=\"node3\" class=\"node\">\n",
       "<title>134659649121504*</title>\n",
       "<ellipse fill=\"none\" stroke=\"black\" cx=\"1035\" cy=\"-99.5\" rx=\"27\" ry=\"18\"/>\n",
       "<text text-anchor=\"middle\" x=\"1035\" y=\"-95.8\" font-family=\"Times,serif\" font-size=\"14.00\">*</text>\n",
       "</g>\n",
       "<!-- 134659649124960&#45;&gt;134659649121504* -->\n",
       "<g id=\"edge7\" class=\"edge\">\n",
       "<title>134659649124960&#45;&gt;134659649121504*</title>\n",
       "<path fill=\"none\" stroke=\"black\" d=\"M970.13,-109.49C980.27,-107.91 989.92,-106.4 998.51,-105.05\"/>\n",
       "<polygon fill=\"black\" stroke=\"black\" points=\"999.09,-108.5 1008.43,-103.5 998.01,-101.59 999.09,-108.5\"/>\n",
       "</g>\n",
       "<!-- 134659649121504 -->\n",
       "<g id=\"node2\" class=\"node\">\n",
       "<title>134659649121504</title>\n",
       "<polygon fill=\"none\" stroke=\"black\" points=\"1098,-81.5 1098,-117.5 1335,-117.5 1335,-81.5 1098,-81.5\"/>\n",
       "<text text-anchor=\"middle\" x=\"1111\" y=\"-95.8\" font-family=\"Times,serif\" font-size=\"14.00\">L</text>\n",
       "<polyline fill=\"none\" stroke=\"black\" points=\"1124,-81.5 1124,-117.5 \"/>\n",
       "<text text-anchor=\"middle\" x=\"1177.5\" y=\"-95.8\" font-family=\"Times,serif\" font-size=\"14.00\">data &#45;8.0000</text>\n",
       "<polyline fill=\"none\" stroke=\"black\" points=\"1231,-81.5 1231,-117.5 \"/>\n",
       "<text text-anchor=\"middle\" x=\"1283\" y=\"-95.8\" font-family=\"Times,serif\" font-size=\"14.00\">grad 1.0000</text>\n",
       "</g>\n",
       "<!-- 134659649121504*&#45;&gt;134659649121504 -->\n",
       "<g id=\"edge1\" class=\"edge\">\n",
       "<title>134659649121504*&#45;&gt;134659649121504</title>\n",
       "<path fill=\"none\" stroke=\"black\" d=\"M1062.1,-99.5C1069.61,-99.5 1078.33,-99.5 1087.75,-99.5\"/>\n",
       "<polygon fill=\"black\" stroke=\"black\" points=\"1087.78,-103 1097.78,-99.5 1087.78,-96 1087.78,-103\"/>\n",
       "</g>\n",
       "<!-- 134659649119536 -->\n",
       "<g id=\"node4\" class=\"node\">\n",
       "<title>134659649119536</title>\n",
       "<polygon fill=\"none\" stroke=\"black\" points=\"736,-54.5 736,-90.5 972,-90.5 972,-54.5 736,-54.5\"/>\n",
       "<text text-anchor=\"middle\" x=\"749\" y=\"-68.8\" font-family=\"Times,serif\" font-size=\"14.00\">d</text>\n",
       "<polyline fill=\"none\" stroke=\"black\" points=\"762,-54.5 762,-90.5 \"/>\n",
       "<text text-anchor=\"middle\" x=\"813\" y=\"-68.8\" font-family=\"Times,serif\" font-size=\"14.00\">data 4.0000</text>\n",
       "<polyline fill=\"none\" stroke=\"black\" points=\"864,-54.5 864,-90.5 \"/>\n",
       "<text text-anchor=\"middle\" x=\"918\" y=\"-68.8\" font-family=\"Times,serif\" font-size=\"14.00\">grad &#45;2.0000</text>\n",
       "</g>\n",
       "<!-- 134659649119536&#45;&gt;134659649121504* -->\n",
       "<g id=\"edge6\" class=\"edge\">\n",
       "<title>134659649119536&#45;&gt;134659649121504*</title>\n",
       "<path fill=\"none\" stroke=\"black\" d=\"M972.15,-90.17C981.53,-91.58 990.46,-92.93 998.46,-94.14\"/>\n",
       "<polygon fill=\"black\" stroke=\"black\" points=\"998.01,-97.61 1008.42,-95.64 999.06,-90.69 998.01,-97.61\"/>\n",
       "</g>\n",
       "<!-- 134659649119536+ -->\n",
       "<g id=\"node5\" class=\"node\">\n",
       "<title>134659649119536+</title>\n",
       "<ellipse fill=\"none\" stroke=\"black\" cx=\"673\" cy=\"-72.5\" rx=\"27\" ry=\"18\"/>\n",
       "<text text-anchor=\"middle\" x=\"673\" y=\"-68.8\" font-family=\"Times,serif\" font-size=\"14.00\">+</text>\n",
       "</g>\n",
       "<!-- 134659649119536+&#45;&gt;134659649119536 -->\n",
       "<g id=\"edge2\" class=\"edge\">\n",
       "<title>134659649119536+&#45;&gt;134659649119536</title>\n",
       "<path fill=\"none\" stroke=\"black\" d=\"M700.03,-72.5C707.58,-72.5 716.38,-72.5 725.87,-72.5\"/>\n",
       "<polygon fill=\"black\" stroke=\"black\" points=\"725.99,-76 735.99,-72.5 725.99,-69 725.99,-76\"/>\n",
       "</g>\n",
       "<!-- 134659648452928 -->\n",
       "<g id=\"node6\" class=\"node\">\n",
       "<title>134659648452928</title>\n",
       "<polygon fill=\"none\" stroke=\"black\" points=\"0,-55.5 0,-91.5 241,-91.5 241,-55.5 0,-55.5\"/>\n",
       "<text text-anchor=\"middle\" x=\"13\" y=\"-69.8\" font-family=\"Times,serif\" font-size=\"14.00\">b</text>\n",
       "<polyline fill=\"none\" stroke=\"black\" points=\"26,-55.5 26,-91.5 \"/>\n",
       "<text text-anchor=\"middle\" x=\"79.5\" y=\"-69.8\" font-family=\"Times,serif\" font-size=\"14.00\">data &#45;3.0000</text>\n",
       "<polyline fill=\"none\" stroke=\"black\" points=\"133,-55.5 133,-91.5 \"/>\n",
       "<text text-anchor=\"middle\" x=\"187\" y=\"-69.8\" font-family=\"Times,serif\" font-size=\"14.00\">grad &#45;4.0000</text>\n",
       "</g>\n",
       "<!-- 134659649120688* -->\n",
       "<g id=\"node10\" class=\"node\">\n",
       "<title>134659649120688*</title>\n",
       "<ellipse fill=\"none\" stroke=\"black\" cx=\"304\" cy=\"-45.5\" rx=\"27\" ry=\"18\"/>\n",
       "<text text-anchor=\"middle\" x=\"304\" y=\"-41.8\" font-family=\"Times,serif\" font-size=\"14.00\">*</text>\n",
       "</g>\n",
       "<!-- 134659648452928&#45;&gt;134659649120688* -->\n",
       "<g id=\"edge9\" class=\"edge\">\n",
       "<title>134659648452928&#45;&gt;134659649120688*</title>\n",
       "<path fill=\"none\" stroke=\"black\" d=\"M238.24,-55.49C248.61,-53.89 258.49,-52.37 267.27,-51.01\"/>\n",
       "<polygon fill=\"black\" stroke=\"black\" points=\"268.03,-54.44 277.38,-49.45 266.97,-47.52 268.03,-54.44\"/>\n",
       "</g>\n",
       "<!-- 134659648449376 -->\n",
       "<g id=\"node7\" class=\"node\">\n",
       "<title>134659648449376</title>\n",
       "<polygon fill=\"none\" stroke=\"black\" points=\"367,-82.5 367,-118.5 610,-118.5 610,-82.5 367,-82.5\"/>\n",
       "<text text-anchor=\"middle\" x=\"379\" y=\"-96.8\" font-family=\"Times,serif\" font-size=\"14.00\">c</text>\n",
       "<polyline fill=\"none\" stroke=\"black\" points=\"391,-82.5 391,-118.5 \"/>\n",
       "<text text-anchor=\"middle\" x=\"446.5\" y=\"-96.8\" font-family=\"Times,serif\" font-size=\"14.00\">data 10.0000</text>\n",
       "<polyline fill=\"none\" stroke=\"black\" points=\"502,-82.5 502,-118.5 \"/>\n",
       "<text text-anchor=\"middle\" x=\"556\" y=\"-96.8\" font-family=\"Times,serif\" font-size=\"14.00\">grad &#45;2.0000</text>\n",
       "</g>\n",
       "<!-- 134659648449376&#45;&gt;134659649119536+ -->\n",
       "<g id=\"edge5\" class=\"edge\">\n",
       "<title>134659648449376&#45;&gt;134659649119536+</title>\n",
       "<path fill=\"none\" stroke=\"black\" d=\"M606.89,-82.49C617.53,-80.86 627.65,-79.3 636.61,-77.93\"/>\n",
       "<polygon fill=\"black\" stroke=\"black\" points=\"637.2,-81.38 646.55,-76.4 636.14,-74.46 637.2,-81.38\"/>\n",
       "</g>\n",
       "<!-- 134659648451440 -->\n",
       "<g id=\"node8\" class=\"node\">\n",
       "<title>134659648451440</title>\n",
       "<polygon fill=\"none\" stroke=\"black\" points=\"5,-0.5 5,-36.5 236,-36.5 236,-0.5 5,-0.5\"/>\n",
       "<text text-anchor=\"middle\" x=\"17.5\" y=\"-14.8\" font-family=\"Times,serif\" font-size=\"14.00\">a</text>\n",
       "<polyline fill=\"none\" stroke=\"black\" points=\"30,-0.5 30,-36.5 \"/>\n",
       "<text text-anchor=\"middle\" x=\"81\" y=\"-14.8\" font-family=\"Times,serif\" font-size=\"14.00\">data 2.0000</text>\n",
       "<polyline fill=\"none\" stroke=\"black\" points=\"132,-0.5 132,-36.5 \"/>\n",
       "<text text-anchor=\"middle\" x=\"184\" y=\"-14.8\" font-family=\"Times,serif\" font-size=\"14.00\">grad 6.0000</text>\n",
       "</g>\n",
       "<!-- 134659648451440&#45;&gt;134659649120688* -->\n",
       "<g id=\"edge8\" class=\"edge\">\n",
       "<title>134659648451440&#45;&gt;134659649120688*</title>\n",
       "<path fill=\"none\" stroke=\"black\" d=\"M236.19,-35.56C247.37,-37.22 258.02,-38.81 267.41,-40.21\"/>\n",
       "<polygon fill=\"black\" stroke=\"black\" points=\"267.02,-43.69 277.43,-41.7 268.05,-36.76 267.02,-43.69\"/>\n",
       "</g>\n",
       "<!-- 134659649120688 -->\n",
       "<g id=\"node9\" class=\"node\">\n",
       "<title>134659649120688</title>\n",
       "<polygon fill=\"none\" stroke=\"black\" points=\"368.5,-27.5 368.5,-63.5 608.5,-63.5 608.5,-27.5 368.5,-27.5\"/>\n",
       "<text text-anchor=\"middle\" x=\"381\" y=\"-41.8\" font-family=\"Times,serif\" font-size=\"14.00\">e</text>\n",
       "<polyline fill=\"none\" stroke=\"black\" points=\"393.5,-27.5 393.5,-63.5 \"/>\n",
       "<text text-anchor=\"middle\" x=\"447\" y=\"-41.8\" font-family=\"Times,serif\" font-size=\"14.00\">data &#45;6.0000</text>\n",
       "<polyline fill=\"none\" stroke=\"black\" points=\"500.5,-27.5 500.5,-63.5 \"/>\n",
       "<text text-anchor=\"middle\" x=\"554.5\" y=\"-41.8\" font-family=\"Times,serif\" font-size=\"14.00\">grad &#45;2.0000</text>\n",
       "</g>\n",
       "<!-- 134659649120688&#45;&gt;134659649119536+ -->\n",
       "<g id=\"edge4\" class=\"edge\">\n",
       "<title>134659649120688&#45;&gt;134659649119536+</title>\n",
       "<path fill=\"none\" stroke=\"black\" d=\"M608.68,-63.13C618.57,-64.6 627.98,-65.99 636.37,-67.23\"/>\n",
       "<polygon fill=\"black\" stroke=\"black\" points=\"636.02,-70.71 646.42,-68.72 637.04,-63.79 636.02,-70.71\"/>\n",
       "</g>\n",
       "<!-- 134659649120688*&#45;&gt;134659649120688 -->\n",
       "<g id=\"edge3\" class=\"edge\">\n",
       "<title>134659649120688*&#45;&gt;134659649120688</title>\n",
       "<path fill=\"none\" stroke=\"black\" d=\"M331.15,-45.5C338.98,-45.5 348.16,-45.5 358.06,-45.5\"/>\n",
       "<polygon fill=\"black\" stroke=\"black\" points=\"358.19,-49 368.19,-45.5 358.19,-42 358.19,-49\"/>\n",
       "</g>\n",
       "</g>\n",
       "</svg>\n"
      ],
      "text/plain": [
       "<graphviz.graphs.Digraph at 0x7a78e48d3670>"
      ]
     },
     "execution_count": 49,
     "metadata": {},
     "output_type": "execute_result"
    }
   ],
   "source": [
    "draw_dot(L)"
   ]
  },
  {
   "cell_type": "code",
   "execution_count": 50,
   "metadata": {},
   "outputs": [
    {
     "name": "stdout",
     "output_type": "stream",
     "text": [
      "6.000000000000014\n"
     ]
    }
   ],
   "source": [
    "# deerivative with a\n",
    "def lwa():\n",
    "    h=0.1\n",
    "    a= Value(2.0, label=\"a\")\n",
    "    b= Value(-3.0, label=\"b\")\n",
    "    c= Value(10.0, label=\"c\")\n",
    "    e = a * b; e.label=\"e\"\n",
    "    d = e +c;d.label = \"d\"\n",
    "    f = Value(-2.0, label='f')\n",
    "    L=d*f; L.label = \"L1\"\n",
    "    # print(a,b,c,d)\n",
    "    # print(L)\n",
    "    L1 = L.data\n",
    "    # step ii\n",
    "    \n",
    "    \n",
    "    a= Value(2.0+h, label=\"a\")\n",
    "    e = a * b; e.label=\"e\"\n",
    "    d = e +c;d.label = \"d\"\n",
    "    f = Value(-2.0, label='f')\n",
    "    L2=(d*f).data; L.label = \"L2\"\n",
    "    \n",
    "    \n",
    "    \n",
    "    # L+=h\n",
    "    \n",
    "    \n",
    "    print((L2-L1)/h)\n",
    "    \n",
    "\n",
    "    \n",
    "lwa()\n",
    "\n",
    "# so,\n",
    "a.grad = 6.000000000000014\n",
    "\n",
    "\n"
   ]
  },
  {
   "cell_type": "code",
   "execution_count": 51,
   "metadata": {},
   "outputs": [
    {
     "data": {
      "image/svg+xml": [
       "<?xml version=\"1.0\" encoding=\"UTF-8\" standalone=\"no\"?>\n",
       "<!DOCTYPE svg PUBLIC \"-//W3C//DTD SVG 1.1//EN\"\n",
       " \"http://www.w3.org/Graphics/SVG/1.1/DTD/svg11.dtd\">\n",
       "<!-- Generated by graphviz version 2.43.0 (0)\n",
       " -->\n",
       "<!-- Title: %3 Pages: 1 -->\n",
       "<svg width=\"1343pt\" height=\"154pt\"\n",
       " viewBox=\"0.00 0.00 1343.00 154.00\" xmlns=\"http://www.w3.org/2000/svg\" xmlns:xlink=\"http://www.w3.org/1999/xlink\">\n",
       "<g id=\"graph0\" class=\"graph\" transform=\"scale(1 1) rotate(0) translate(4 150)\">\n",
       "<title>%3</title>\n",
       "<polygon fill=\"white\" stroke=\"transparent\" points=\"-4,4 -4,-150 1339,-150 1339,4 -4,4\"/>\n",
       "<!-- 134659649124960 -->\n",
       "<g id=\"node1\" class=\"node\">\n",
       "<title>134659649124960</title>\n",
       "<polygon fill=\"none\" stroke=\"black\" points=\"737.5,-109.5 737.5,-145.5 970.5,-145.5 970.5,-109.5 737.5,-109.5\"/>\n",
       "<text text-anchor=\"middle\" x=\"748.5\" y=\"-123.8\" font-family=\"Times,serif\" font-size=\"14.00\">f</text>\n",
       "<polyline fill=\"none\" stroke=\"black\" points=\"759.5,-109.5 759.5,-145.5 \"/>\n",
       "<text text-anchor=\"middle\" x=\"813\" y=\"-123.8\" font-family=\"Times,serif\" font-size=\"14.00\">data &#45;2.0000</text>\n",
       "<polyline fill=\"none\" stroke=\"black\" points=\"866.5,-109.5 866.5,-145.5 \"/>\n",
       "<text text-anchor=\"middle\" x=\"918.5\" y=\"-123.8\" font-family=\"Times,serif\" font-size=\"14.00\">grad 4.0000</text>\n",
       "</g>\n",
       "<!-- 134659649121504* -->\n",
       "<g id=\"node3\" class=\"node\">\n",
       "<title>134659649121504*</title>\n",
       "<ellipse fill=\"none\" stroke=\"black\" cx=\"1035\" cy=\"-99.5\" rx=\"27\" ry=\"18\"/>\n",
       "<text text-anchor=\"middle\" x=\"1035\" y=\"-95.8\" font-family=\"Times,serif\" font-size=\"14.00\">*</text>\n",
       "</g>\n",
       "<!-- 134659649124960&#45;&gt;134659649121504* -->\n",
       "<g id=\"edge7\" class=\"edge\">\n",
       "<title>134659649124960&#45;&gt;134659649121504*</title>\n",
       "<path fill=\"none\" stroke=\"black\" d=\"M970.13,-109.49C980.27,-107.91 989.92,-106.4 998.51,-105.05\"/>\n",
       "<polygon fill=\"black\" stroke=\"black\" points=\"999.09,-108.5 1008.43,-103.5 998.01,-101.59 999.09,-108.5\"/>\n",
       "</g>\n",
       "<!-- 134659649121504 -->\n",
       "<g id=\"node2\" class=\"node\">\n",
       "<title>134659649121504</title>\n",
       "<polygon fill=\"none\" stroke=\"black\" points=\"1098,-81.5 1098,-117.5 1335,-117.5 1335,-81.5 1098,-81.5\"/>\n",
       "<text text-anchor=\"middle\" x=\"1111\" y=\"-95.8\" font-family=\"Times,serif\" font-size=\"14.00\">L</text>\n",
       "<polyline fill=\"none\" stroke=\"black\" points=\"1124,-81.5 1124,-117.5 \"/>\n",
       "<text text-anchor=\"middle\" x=\"1177.5\" y=\"-95.8\" font-family=\"Times,serif\" font-size=\"14.00\">data &#45;8.0000</text>\n",
       "<polyline fill=\"none\" stroke=\"black\" points=\"1231,-81.5 1231,-117.5 \"/>\n",
       "<text text-anchor=\"middle\" x=\"1283\" y=\"-95.8\" font-family=\"Times,serif\" font-size=\"14.00\">grad 1.0000</text>\n",
       "</g>\n",
       "<!-- 134659649121504*&#45;&gt;134659649121504 -->\n",
       "<g id=\"edge1\" class=\"edge\">\n",
       "<title>134659649121504*&#45;&gt;134659649121504</title>\n",
       "<path fill=\"none\" stroke=\"black\" d=\"M1062.1,-99.5C1069.61,-99.5 1078.33,-99.5 1087.75,-99.5\"/>\n",
       "<polygon fill=\"black\" stroke=\"black\" points=\"1087.78,-103 1097.78,-99.5 1087.78,-96 1087.78,-103\"/>\n",
       "</g>\n",
       "<!-- 134659649119536 -->\n",
       "<g id=\"node4\" class=\"node\">\n",
       "<title>134659649119536</title>\n",
       "<polygon fill=\"none\" stroke=\"black\" points=\"736,-54.5 736,-90.5 972,-90.5 972,-54.5 736,-54.5\"/>\n",
       "<text text-anchor=\"middle\" x=\"749\" y=\"-68.8\" font-family=\"Times,serif\" font-size=\"14.00\">d</text>\n",
       "<polyline fill=\"none\" stroke=\"black\" points=\"762,-54.5 762,-90.5 \"/>\n",
       "<text text-anchor=\"middle\" x=\"813\" y=\"-68.8\" font-family=\"Times,serif\" font-size=\"14.00\">data 4.0000</text>\n",
       "<polyline fill=\"none\" stroke=\"black\" points=\"864,-54.5 864,-90.5 \"/>\n",
       "<text text-anchor=\"middle\" x=\"918\" y=\"-68.8\" font-family=\"Times,serif\" font-size=\"14.00\">grad &#45;2.0000</text>\n",
       "</g>\n",
       "<!-- 134659649119536&#45;&gt;134659649121504* -->\n",
       "<g id=\"edge6\" class=\"edge\">\n",
       "<title>134659649119536&#45;&gt;134659649121504*</title>\n",
       "<path fill=\"none\" stroke=\"black\" d=\"M972.15,-90.17C981.53,-91.58 990.46,-92.93 998.46,-94.14\"/>\n",
       "<polygon fill=\"black\" stroke=\"black\" points=\"998.01,-97.61 1008.42,-95.64 999.06,-90.69 998.01,-97.61\"/>\n",
       "</g>\n",
       "<!-- 134659649119536+ -->\n",
       "<g id=\"node5\" class=\"node\">\n",
       "<title>134659649119536+</title>\n",
       "<ellipse fill=\"none\" stroke=\"black\" cx=\"673\" cy=\"-72.5\" rx=\"27\" ry=\"18\"/>\n",
       "<text text-anchor=\"middle\" x=\"673\" y=\"-68.8\" font-family=\"Times,serif\" font-size=\"14.00\">+</text>\n",
       "</g>\n",
       "<!-- 134659649119536+&#45;&gt;134659649119536 -->\n",
       "<g id=\"edge2\" class=\"edge\">\n",
       "<title>134659649119536+&#45;&gt;134659649119536</title>\n",
       "<path fill=\"none\" stroke=\"black\" d=\"M700.03,-72.5C707.58,-72.5 716.38,-72.5 725.87,-72.5\"/>\n",
       "<polygon fill=\"black\" stroke=\"black\" points=\"725.99,-76 735.99,-72.5 725.99,-69 725.99,-76\"/>\n",
       "</g>\n",
       "<!-- 134659648452928 -->\n",
       "<g id=\"node6\" class=\"node\">\n",
       "<title>134659648452928</title>\n",
       "<polygon fill=\"none\" stroke=\"black\" points=\"0,-55.5 0,-91.5 241,-91.5 241,-55.5 0,-55.5\"/>\n",
       "<text text-anchor=\"middle\" x=\"13\" y=\"-69.8\" font-family=\"Times,serif\" font-size=\"14.00\">b</text>\n",
       "<polyline fill=\"none\" stroke=\"black\" points=\"26,-55.5 26,-91.5 \"/>\n",
       "<text text-anchor=\"middle\" x=\"79.5\" y=\"-69.8\" font-family=\"Times,serif\" font-size=\"14.00\">data &#45;3.0000</text>\n",
       "<polyline fill=\"none\" stroke=\"black\" points=\"133,-55.5 133,-91.5 \"/>\n",
       "<text text-anchor=\"middle\" x=\"187\" y=\"-69.8\" font-family=\"Times,serif\" font-size=\"14.00\">grad &#45;4.0000</text>\n",
       "</g>\n",
       "<!-- 134659649120688* -->\n",
       "<g id=\"node10\" class=\"node\">\n",
       "<title>134659649120688*</title>\n",
       "<ellipse fill=\"none\" stroke=\"black\" cx=\"304\" cy=\"-45.5\" rx=\"27\" ry=\"18\"/>\n",
       "<text text-anchor=\"middle\" x=\"304\" y=\"-41.8\" font-family=\"Times,serif\" font-size=\"14.00\">*</text>\n",
       "</g>\n",
       "<!-- 134659648452928&#45;&gt;134659649120688* -->\n",
       "<g id=\"edge9\" class=\"edge\">\n",
       "<title>134659648452928&#45;&gt;134659649120688*</title>\n",
       "<path fill=\"none\" stroke=\"black\" d=\"M238.24,-55.49C248.61,-53.89 258.49,-52.37 267.27,-51.01\"/>\n",
       "<polygon fill=\"black\" stroke=\"black\" points=\"268.03,-54.44 277.38,-49.45 266.97,-47.52 268.03,-54.44\"/>\n",
       "</g>\n",
       "<!-- 134659648449376 -->\n",
       "<g id=\"node7\" class=\"node\">\n",
       "<title>134659648449376</title>\n",
       "<polygon fill=\"none\" stroke=\"black\" points=\"367,-82.5 367,-118.5 610,-118.5 610,-82.5 367,-82.5\"/>\n",
       "<text text-anchor=\"middle\" x=\"379\" y=\"-96.8\" font-family=\"Times,serif\" font-size=\"14.00\">c</text>\n",
       "<polyline fill=\"none\" stroke=\"black\" points=\"391,-82.5 391,-118.5 \"/>\n",
       "<text text-anchor=\"middle\" x=\"446.5\" y=\"-96.8\" font-family=\"Times,serif\" font-size=\"14.00\">data 10.0000</text>\n",
       "<polyline fill=\"none\" stroke=\"black\" points=\"502,-82.5 502,-118.5 \"/>\n",
       "<text text-anchor=\"middle\" x=\"556\" y=\"-96.8\" font-family=\"Times,serif\" font-size=\"14.00\">grad &#45;2.0000</text>\n",
       "</g>\n",
       "<!-- 134659648449376&#45;&gt;134659649119536+ -->\n",
       "<g id=\"edge5\" class=\"edge\">\n",
       "<title>134659648449376&#45;&gt;134659649119536+</title>\n",
       "<path fill=\"none\" stroke=\"black\" d=\"M606.89,-82.49C617.53,-80.86 627.65,-79.3 636.61,-77.93\"/>\n",
       "<polygon fill=\"black\" stroke=\"black\" points=\"637.2,-81.38 646.55,-76.4 636.14,-74.46 637.2,-81.38\"/>\n",
       "</g>\n",
       "<!-- 134659648451440 -->\n",
       "<g id=\"node8\" class=\"node\">\n",
       "<title>134659648451440</title>\n",
       "<polygon fill=\"none\" stroke=\"black\" points=\"5,-0.5 5,-36.5 236,-36.5 236,-0.5 5,-0.5\"/>\n",
       "<text text-anchor=\"middle\" x=\"17.5\" y=\"-14.8\" font-family=\"Times,serif\" font-size=\"14.00\">a</text>\n",
       "<polyline fill=\"none\" stroke=\"black\" points=\"30,-0.5 30,-36.5 \"/>\n",
       "<text text-anchor=\"middle\" x=\"81\" y=\"-14.8\" font-family=\"Times,serif\" font-size=\"14.00\">data 2.0000</text>\n",
       "<polyline fill=\"none\" stroke=\"black\" points=\"132,-0.5 132,-36.5 \"/>\n",
       "<text text-anchor=\"middle\" x=\"184\" y=\"-14.8\" font-family=\"Times,serif\" font-size=\"14.00\">grad 6.0000</text>\n",
       "</g>\n",
       "<!-- 134659648451440&#45;&gt;134659649120688* -->\n",
       "<g id=\"edge8\" class=\"edge\">\n",
       "<title>134659648451440&#45;&gt;134659649120688*</title>\n",
       "<path fill=\"none\" stroke=\"black\" d=\"M236.19,-35.56C247.37,-37.22 258.02,-38.81 267.41,-40.21\"/>\n",
       "<polygon fill=\"black\" stroke=\"black\" points=\"267.02,-43.69 277.43,-41.7 268.05,-36.76 267.02,-43.69\"/>\n",
       "</g>\n",
       "<!-- 134659649120688 -->\n",
       "<g id=\"node9\" class=\"node\">\n",
       "<title>134659649120688</title>\n",
       "<polygon fill=\"none\" stroke=\"black\" points=\"368.5,-27.5 368.5,-63.5 608.5,-63.5 608.5,-27.5 368.5,-27.5\"/>\n",
       "<text text-anchor=\"middle\" x=\"381\" y=\"-41.8\" font-family=\"Times,serif\" font-size=\"14.00\">e</text>\n",
       "<polyline fill=\"none\" stroke=\"black\" points=\"393.5,-27.5 393.5,-63.5 \"/>\n",
       "<text text-anchor=\"middle\" x=\"447\" y=\"-41.8\" font-family=\"Times,serif\" font-size=\"14.00\">data &#45;6.0000</text>\n",
       "<polyline fill=\"none\" stroke=\"black\" points=\"500.5,-27.5 500.5,-63.5 \"/>\n",
       "<text text-anchor=\"middle\" x=\"554.5\" y=\"-41.8\" font-family=\"Times,serif\" font-size=\"14.00\">grad &#45;2.0000</text>\n",
       "</g>\n",
       "<!-- 134659649120688&#45;&gt;134659649119536+ -->\n",
       "<g id=\"edge4\" class=\"edge\">\n",
       "<title>134659649120688&#45;&gt;134659649119536+</title>\n",
       "<path fill=\"none\" stroke=\"black\" d=\"M608.68,-63.13C618.57,-64.6 627.98,-65.99 636.37,-67.23\"/>\n",
       "<polygon fill=\"black\" stroke=\"black\" points=\"636.02,-70.71 646.42,-68.72 637.04,-63.79 636.02,-70.71\"/>\n",
       "</g>\n",
       "<!-- 134659649120688*&#45;&gt;134659649120688 -->\n",
       "<g id=\"edge3\" class=\"edge\">\n",
       "<title>134659649120688*&#45;&gt;134659649120688</title>\n",
       "<path fill=\"none\" stroke=\"black\" d=\"M331.15,-45.5C338.98,-45.5 348.16,-45.5 358.06,-45.5\"/>\n",
       "<polygon fill=\"black\" stroke=\"black\" points=\"358.19,-49 368.19,-45.5 358.19,-42 358.19,-49\"/>\n",
       "</g>\n",
       "</g>\n",
       "</svg>\n"
      ],
      "text/plain": [
       "<graphviz.graphs.Digraph at 0x7a78e48d20b0>"
      ]
     },
     "execution_count": 51,
     "metadata": {},
     "output_type": "execute_result"
    }
   ],
   "source": [
    "    draw_dot(L)"
   ]
  },
  {
   "cell_type": "markdown",
   "metadata": {},
   "source": [
    "## optimizing\n"
   ]
  },
  {
   "cell_type": "code",
   "execution_count": 52,
   "metadata": {},
   "outputs": [
    {
     "name": "stdout",
     "output_type": "stream",
     "text": [
      "a: Value(data=2.0, label=a)\n",
      "b: Value(data=-3.0, label=b)\n",
      "c: Value(data=10.0, label=c)\n",
      "d: Value(data=4.0, label=d)\n",
      "e: Value(data=-6.0, label=e)\n",
      "f: Value(data=-2.0, label=f)\n",
      "L1: -8.0 \n",
      "\n",
      "a.grad: 6.0\n",
      "b.grad: -4\n",
      "c.grad: -2\n",
      "d.grad: 0.0\n",
      "e.grad: 0.0\n",
      "f.grad: 4.0\n",
      "a: Value(data=2.6, label=a)\n",
      "b: Value(data=-3.4, label=b)\n",
      "c: Value(data=9.8, label=c)\n",
      "d: Value(data=0.9600000000000009, label=d)\n",
      "e: Value(data=-8.84, label=e)\n",
      "f: Value(data=-2.0, label=f)\n",
      "increasing L: -1.9200000000000017 \n",
      "\n",
      "\n",
      "\n",
      "a: Value(data=3.2, label=a)\n",
      "b: Value(data=-3.8, label=b)\n",
      "c: Value(data=9.600000000000001, label=c)\n",
      "d: Value(data=-2.5599999999999987, label=d)\n",
      "e: Value(data=-12.16, label=e)\n",
      "f: Value(data=-2.0, label=f)\n",
      "increasing L: 5.119999999999997 \n",
      "\n",
      "\n",
      "\n",
      "a: Value(data=3.8000000000000003, label=a)\n",
      "b: Value(data=-4.2, label=b)\n",
      "c: Value(data=9.400000000000002, label=c)\n",
      "d: Value(data=-6.5600000000000005, label=d)\n",
      "e: Value(data=-15.960000000000003, label=e)\n",
      "f: Value(data=-2.0, label=f)\n",
      "increasing L: 13.120000000000001 \n",
      "\n",
      "\n",
      "\n"
     ]
    }
   ],
   "source": [
    "# trying to make L go up\n",
    "# to make L go up we need to go in direction of gradient\n",
    "\n",
    "\n",
    "a.data +=  a.grad * 0.1 # to nudge the value in gradient direction increases L.\n",
    "\n",
    "# deerivative with a\n",
    "def nudging():\n",
    "    h=0.1\n",
    "    a= Value(2.0, label=\"a\")\n",
    "    b= Value(-3.0, label=\"b\")\n",
    "    c= Value(10.0, label=\"c\")\n",
    "    e = a * b; e.label=\"e\"\n",
    "    d = e +c;d.label = \"d\"\n",
    "    f = Value(-2.0, label='f')\n",
    "    L=d*f; L.label = \"L1\"\n",
    "    # print(a,b,c,d)\n",
    "    # print(L)\n",
    "    L1 = L.data\n",
    "    print(\"a:\", a)\n",
    "    print(\"b:\", b)\n",
    "    print(\"c:\", c)\n",
    "    print(\"d:\", d)\n",
    "    print(\"e:\", e)\n",
    "    print(\"f:\", f)\n",
    "    \n",
    "    print(\"L1:\", L1,\"\\n\")\n",
    "    # step ii\n",
    "    \n",
    "    \n",
    "    \n",
    "    # d.grad = -2 # value of f\n",
    "    f.grad = 4.0 # value of d\n",
    "    c.grad = -2\n",
    "    # e.grad = -2\n",
    "    a.grad = 6.0\n",
    "    b.grad = -4\n",
    "    print(\"a.grad:\", a.grad)\n",
    "    print(\"b.grad:\", b.grad)\n",
    "    print(\"c.grad:\", c.grad)\n",
    "    print(\"d.grad:\", d.grad)\n",
    "    print(\"e.grad:\", e.grad)\n",
    "    print(\"f.grad:\", f.grad)\n",
    "    for i in range(3):\n",
    "        a.data +=  a.grad * 0.1\n",
    "        b.data +=  b.grad * 0.1\n",
    "        c.data +=  c.grad * 0.1\n",
    "        f.data +=  f.grad * 0.1\n",
    "        e = a * b; e.label=\"e\"\n",
    "        d = e +c;d.label = \"d\"\n",
    "        f = Value(-2.0, label='f')\n",
    "        L2=(d*f).data; L.label = \"L2\"\n",
    "    \n",
    "    \n",
    "        print(\"a:\", a)\n",
    "        print(\"b:\", b)\n",
    "        print(\"c:\", c)\n",
    "        print(\"d:\", d)\n",
    "        print(\"e:\", e)\n",
    "        print(\"f:\", f)\n",
    "        print(\"increasing L:\", L2, \"\\n\\n\\n\")\n",
    "\n",
    "    \n",
    "    \n",
    "    # L+=h\n",
    "    \n",
    "    \n",
    "    # print((L2-L1)/h)\n",
    "    \n",
    "\n",
    "    \n",
    "nudging()\n",
    "\n",
    "\n",
    "\n",
    "\n"
   ]
  },
  {
   "cell_type": "code",
   "execution_count": null,
   "metadata": {},
   "outputs": [],
   "source": []
  },
  {
   "cell_type": "markdown",
   "metadata": {},
   "source": [
    "# Extra\n"
   ]
  },
  {
   "cell_type": "code",
   "execution_count": null,
   "metadata": {},
   "outputs": [],
   "source": []
  },
  {
   "cell_type": "code",
   "execution_count": 53,
   "metadata": {},
   "outputs": [
    {
     "data": {
      "text/plain": [
       "Value(data=4.0)"
      ]
     },
     "execution_count": 53,
     "metadata": {},
     "output_type": "execute_result"
    }
   ],
   "source": [
    "\n",
    "# print(Value(2))\n",
    "a = Value(2.0)\n",
    "b = Value(3.0)\n",
    "a*(1/12)\n",
    "-12.0+a\n",
    "a*(-b)\n",
    "a+2.0"
   ]
  },
  {
   "cell_type": "code",
   "execution_count": 54,
   "metadata": {},
   "outputs": [
    {
     "data": {
      "text/plain": [
       "(Value(data=5.0), Value(data=6.0))"
      ]
     },
     "execution_count": 54,
     "metadata": {},
     "output_type": "execute_result"
    }
   ],
   "source": [
    "a.__add__(b), a.__mul__(b)"
   ]
  },
  {
   "cell_type": "code",
   "execution_count": 55,
   "metadata": {},
   "outputs": [
    {
     "data": {
      "text/plain": [
       "Value(data=-10.0)"
      ]
     },
     "execution_count": 55,
     "metadata": {},
     "output_type": "execute_result"
    }
   ],
   "source": [
    "type(-12)\n",
    "-12.0 +a"
   ]
  },
  {
   "cell_type": "code",
   "execution_count": 56,
   "metadata": {},
   "outputs": [
    {
     "data": {
      "text/plain": [
       "Value(data=1.0)"
      ]
     },
     "execution_count": 56,
     "metadata": {},
     "output_type": "execute_result"
    }
   ],
   "source": [
    "x = Value(2.0)\n",
    "-1.0 + x"
   ]
  },
  {
   "cell_type": "code",
   "execution_count": 57,
   "metadata": {},
   "outputs": [
    {
     "data": {
      "text/plain": [
       "(Value(data=25.0),\n",
       " {Value(data=5), Value(data=5.0)},\n",
       " '*',\n",
       " {Value(data=2.0), Value(data=3.0)},\n",
       " '+')"
      ]
     },
     "execution_count": 57,
     "metadata": {},
     "output_type": "execute_result"
    }
   ],
   "source": [
    "c= a+b\n",
    "d = 5* c\n",
    "d, d._prev,d._op, c._prev, c._op"
   ]
  },
  {
   "cell_type": "markdown",
   "metadata": {},
   "source": []
  },
  {
   "cell_type": "markdown",
   "metadata": {},
   "source": []
  },
  {
   "cell_type": "code",
   "execution_count": 58,
   "metadata": {},
   "outputs": [
    {
     "name": "stdout",
     "output_type": "stream",
     "text": [
      "42\n"
     ]
    }
   ],
   "source": [
    "class MyClass:\n",
    "    def __init__(current, value):\n",
    "        current.value = value\n",
    "\n",
    "    def print_value(current):\n",
    "        print(current.value)\n",
    "\n",
    "obj = MyClass(42)\n",
    "obj.print_value()  # prints 42\n"
   ]
  },
  {
   "cell_type": "code",
   "execution_count": null,
   "metadata": {},
   "outputs": [],
   "source": []
  },
  {
   "cell_type": "code",
   "execution_count": null,
   "metadata": {},
   "outputs": [],
   "source": []
  },
  {
   "cell_type": "code",
   "execution_count": null,
   "metadata": {},
   "outputs": [],
   "source": []
  },
  {
   "cell_type": "code",
   "execution_count": null,
   "metadata": {},
   "outputs": [],
   "source": []
  },
  {
   "cell_type": "code",
   "execution_count": null,
   "metadata": {},
   "outputs": [],
   "source": []
  },
  {
   "cell_type": "markdown",
   "metadata": {},
   "source": []
  }
 ],
 "metadata": {
  "kernelspec": {
   "display_name": "noManEnv",
   "language": "python",
   "name": "python3"
  },
  "language_info": {
   "codemirror_mode": {
    "name": "ipython",
    "version": 3
   },
   "file_extension": ".py",
   "mimetype": "text/x-python",
   "name": "python",
   "nbconvert_exporter": "python",
   "pygments_lexer": "ipython3",
   "version": "3.10.14"
  }
 },
 "nbformat": 4,
 "nbformat_minor": 2
}
